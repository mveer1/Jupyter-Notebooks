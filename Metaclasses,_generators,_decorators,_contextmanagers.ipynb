{
  "nbformat": 4,
  "nbformat_minor": 0,
  "metadata": {
    "colab": {
      "name": "Metaclasses, generators, decorators, contextmanagers",
      "provenance": [],
      "collapsed_sections": [],
      "authorship_tag": "ABX9TyOJPQ1A4BOMQnuXV7PbojrQ",
      "include_colab_link": true
    },
    "kernelspec": {
      "name": "python3",
      "display_name": "Python 3"
    },
    "language_info": {
      "name": "python"
    }
  },
  "cells": [
    {
      "cell_type": "markdown",
      "metadata": {
        "id": "view-in-github",
        "colab_type": "text"
      },
      "source": [
        "<a href=\"https://colab.research.google.com/github/mveer1/Jupyter-Notebooks/blob/main/Metaclasses%2C_generators%2C_decorators%2C_contextmanagers.ipynb\" target=\"_parent\"><img src=\"https://colab.research.google.com/assets/colab-badge.svg\" alt=\"Open In Colab\"/></a>"
      ]
    },
    {
      "cell_type": "code",
      "metadata": {
        "id": "ZKaIF4mhKRCo"
      },
      "source": [
        ""
      ],
      "execution_count": null,
      "outputs": []
    },
    {
      "cell_type": "markdown",
      "metadata": {
        "id": "lCTFAGvXKazz"
      },
      "source": [
        "# Metaclasses\n",
        "\n",
        "General purpose of use is when you have \n",
        "1. A Base class (library code)\n",
        "2. A derived class (user code)"
      ]
    },
    {
      "cell_type": "code",
      "metadata": {
        "id": "FTmmPN50KcDe"
      },
      "source": [
        "#Library.py\n",
        "class Base:\n",
        "    def foo(self):\n",
        "        return self.bar()"
      ],
      "execution_count": null,
      "outputs": []
    },
    {
      "cell_type": "code",
      "metadata": {
        "id": "Akp2XtNcK-EB"
      },
      "source": [
        "#user.py\n",
        "class Derived(Base):\n",
        "    def bar(self):\n",
        "        return 'bar'"
      ],
      "execution_count": null,
      "outputs": []
    },
    {
      "cell_type": "markdown",
      "metadata": {
        "id": "qgINCE18KcJN"
      },
      "source": [
        "How do we make sure before actually deploying the code, user always makes a method \"bar\"."
      ]
    },
    {
      "cell_type": "code",
      "metadata": {
        "id": "znLzXbJyKcN9"
      },
      "source": [
        "#library.py\n",
        "class Base:\n",
        "    def foo(self):\n",
        "        return self.bar()\n",
        "\n",
        "old_bc = __build_class__\n",
        "def my_bc(fun, name, base=None, **kw):\n",
        "    print(\"my_bc\")\n",
        "    if base is Base:\n",
        "        print(\"check if bar method is defined\")\n",
        "    if base is not None:\n",
        "        return old_bc(fun, name, base, **kw)\n",
        "    return old_bc(fun, name, **kw)\n",
        "print(old_bc, my_bc)\n",
        "import builtins\n",
        "builtins.__build_class__ = my_bc"
      ],
      "execution_count": null,
      "outputs": []
    },
    {
      "cell_type": "markdown",
      "metadata": {
        "id": "Meq-uVn2KcTH"
      },
      "source": [
        "thats ig one way"
      ]
    },
    {
      "cell_type": "code",
      "metadata": {
        "id": "T2i1H9xDKcbu"
      },
      "source": [
        "#library.py\n",
        "class BaseMeta(type):\n",
        "    def __new__(cls, name, bases, body):\n",
        "        if not 'bar' in body:\n",
        "            raise TypeError(\"bad user class\")\n",
        "        return super().__new__(cls, name, bases, body)\n",
        "\n",
        "class Base(metaclass = BaseMeta):\n",
        "    def foo(self):\n",
        "        return self.bar()"
      ],
      "execution_count": null,
      "outputs": []
    },
    {
      "cell_type": "markdown",
      "metadata": {
        "id": "V4hWKLEKKcgy"
      },
      "source": [
        "# Decorators"
      ]
    },
    {
      "cell_type": "code",
      "metadata": {
        "id": "tArAXu1yKclZ"
      },
      "source": [
        "from time import time\n",
        "def timer(func):\n",
        "    def f(x, y=10):\n",
        "        before = time()\n",
        "        rv = func(x,y)\n",
        "        after = time()\n",
        "        print(\"elapsed\", after-before)\n",
        "        return rv\n",
        "    return f\n",
        "\n",
        "def add(x, y=10):\n",
        "    return x+y\n",
        "add = timer(add)"
      ],
      "execution_count": null,
      "outputs": []
    },
    {
      "cell_type": "markdown",
      "metadata": {
        "id": "G3Y2Z7yMKcqC"
      },
      "source": [
        "is same as"
      ]
    },
    {
      "cell_type": "code",
      "metadata": {
        "id": "1aBIoBuNKcv4"
      },
      "source": [
        "from time import time\n",
        "def timer(func):\n",
        "    def f(x, y=10):\n",
        "        before = time()\n",
        "        rv = func(x,y)\n",
        "        after = time()\n",
        "        print(\"elapsed\", after-before)\n",
        "        return rv\n",
        "    return f\n",
        "\n",
        "@timer\n",
        "def add(x, y=10):\n",
        "    return x+y"
      ],
      "execution_count": 1,
      "outputs": []
    },
    {
      "cell_type": "markdown",
      "metadata": {
        "id": "T3uqUs0-Kc0e"
      },
      "source": [
        "A general version of wrapping a function or making a decorator->"
      ]
    },
    {
      "cell_type": "code",
      "metadata": {
        "colab": {
          "base_uri": "https://localhost:8080/",
          "height": 128
        },
        "id": "7bI1AAJIpViC",
        "outputId": "f7738d48-294c-4abe-f9e0-821a7a54d113"
      },
      "source": [
        "from time import time\n",
        "def timer(func):\n",
        "    def f(*args, **kwargs):\n",
        "        before = time()\n",
        "        rv = func(*args, **kwargs)\n",
        "        after = time()\n",
        "        print(\"Elapsed\", after- before)\n",
        "        return rv\n",
        "    return f\n",
        "\n",
        "@timer"
      ],
      "execution_count": 2,
      "outputs": [
        {
          "output_type": "error",
          "ename": "SyntaxError",
          "evalue": "ignored",
          "traceback": [
            "\u001b[0;36m  File \u001b[0;32m\"<ipython-input-2-da7e5fb4117a>\"\u001b[0;36m, line \u001b[0;32m11\u001b[0m\n\u001b[0;31m    @timer\u001b[0m\n\u001b[0m          ^\u001b[0m\n\u001b[0;31mSyntaxError\u001b[0m\u001b[0;31m:\u001b[0m unexpected EOF while parsing\n"
          ]
        }
      ]
    },
    {
      "cell_type": "code",
      "metadata": {
        "id": "I5ypU-C5qnty"
      },
      "source": [
        ""
      ],
      "execution_count": 2,
      "outputs": []
    },
    {
      "cell_type": "code",
      "metadata": {
        "id": "H_DTUtj2qqlH"
      },
      "source": [
        ""
      ],
      "execution_count": null,
      "outputs": []
    },
    {
      "cell_type": "code",
      "metadata": {
        "id": "hNab_Rj-qqoK"
      },
      "source": [
        ""
      ],
      "execution_count": null,
      "outputs": []
    },
    {
      "cell_type": "code",
      "metadata": {
        "id": "h4eIU5Jzqqqs"
      },
      "source": [
        ""
      ],
      "execution_count": null,
      "outputs": []
    }
  ]
}