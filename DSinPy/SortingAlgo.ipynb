{
  "nbformat": 4,
  "nbformat_minor": 0,
  "metadata": {
    "colab": {
      "name": "SortingAlgo.ipynb",
      "provenance": [],
      "collapsed_sections": [],
      "authorship_tag": "ABX9TyO4MlOxEuF/JrYIHAq5vZOe",
      "include_colab_link": true
    },
    "kernelspec": {
      "name": "python3",
      "display_name": "Python 3"
    },
    "language_info": {
      "name": "python"
    }
  },
  "cells": [
    {
      "cell_type": "markdown",
      "metadata": {
        "id": "view-in-github",
        "colab_type": "text"
      },
      "source": [
        "<a href=\"https://colab.research.google.com/github/mveer1/google-colab-notebooks/blob/main/DSinPy/SortingAlgo.ipynb\" target=\"_parent\"><img src=\"https://colab.research.google.com/assets/colab-badge.svg\" alt=\"Open In Colab\"/></a>"
      ]
    },
    {
      "cell_type": "code",
      "metadata": {
        "id": "HVEltR3nME8N"
      },
      "source": [
        ""
      ],
      "execution_count": null,
      "outputs": []
    },
    {
      "cell_type": "markdown",
      "metadata": {
        "id": "iiL-72ofMKO7"
      },
      "source": [
        "# **Sort Efficiency**\n",
        "for space:\n",
        "### **In-Place or not**\n",
        "1. Sorting Methods that are in-place (minimal storage sorting methods)\n",
        "> no need of any extra storage \n",
        "2. Sorting Methods that are not in—place \n",
        "> Need extra storage to store intermediate results of the sorting <br>\n",
        "> Extra storage is proportional to the size of data<br>\n",
        "> ex. Merge Sort<br>\n",
        "\n",
        "\n",
        "for time: <br>\n",
        "Comparisons and Movements"
      ]
    },
    {
      "cell_type": "markdown",
      "metadata": {
        "id": "62boZm_yNrN9"
      },
      "source": [
        "---\n",
        "## **Sort Stability**\n",
        "> A stable algo will maintain a order of duplicate elements. <br>\n",
        "> Stable sort is important when we arrange elements in two ways, like for ex. first with name then with grade. <br>"
      ]
    },
    {
      "cell_type": "markdown",
      "metadata": {
        "id": "Pn3hI5V2NrQT"
      },
      "source": [
        "# **Selection Sort**\n",
        "select the smallest in each pass and swap it with first place.\n",
        "O(N^2) <br> <br>\n",
        "Not data sensitive sort (time doesnt depend on quality of inputin terms of sorting) <br>\n",
        "Less data movement<br>\n",
        "**In-place sort**<br>\n",
        "**Unstable** <br>\n"
      ]
    },
    {
      "cell_type": "markdown",
      "metadata": {
        "id": "F9RSOpQWNrS4"
      },
      "source": [
        "# **Bubble Sort**\n",
        "Adjacent elements are compared and swapped if they are not in order\n",
        "\n",
        "first pass, adjacent elements are compared. til the end. and swapped if req.<br>\n",
        "hence now the last element is sorted, <br>\n",
        "now for second pass repeat but till second last element only <br>\n",
        "total of n-1 passes are required.\n",
        "\n"
      ]
    },
    {
      "cell_type": "code",
      "metadata": {
        "id": "6Z0NtfAZdNFB"
      },
      "source": [
        "def bubble_sortIa):\n",
        "    for x in range(len(a)-l,0,-1):\n",
        "        for j in range(x):\n",
        "            if a[j]>a[j+1]:\n",
        "                a[j]ra[j+1] : a[j+l]la[j]"
      ],
      "execution_count": null,
      "outputs": []
    },
    {
      "cell_type": "markdown",
      "metadata": {
        "id": "zW0j36NANrVg"
      },
      "source": [
        ""
      ]
    }
  ]
}